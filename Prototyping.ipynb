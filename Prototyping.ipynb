{
 "cells": [
  {
   "cell_type": "code",
   "execution_count": 1,
   "metadata": {
    "collapsed": true
   },
   "outputs": [],
   "source": [
    "import numpy as np"
   ]
  },
  {
   "cell_type": "code",
   "execution_count": 8,
   "metadata": {
    "collapsed": false
   },
   "outputs": [
    {
     "data": {
      "text/plain": [
       "array([ 1., -0.,  0.])"
      ]
     },
     "execution_count": 8,
     "metadata": {},
     "output_type": "execute_result"
    }
   ],
   "source": [
    "A = np.array([[0, 1, -1], [-1, 0, 1], [-1, 1, 0]])\n",
    "columns = [0, 2]\n",
    "rows = [1, 2]\n",
    "solve_indifference(A, rows, columns)"
   ]
  },
  {
   "cell_type": "code",
   "execution_count": 31,
   "metadata": {
    "collapsed": false
   },
   "outputs": [],
   "source": [
    "def solve_indifference(A, rows=None, columns=None):\n",
    "    \"\"\"\n",
    "    Solve the indifference for a payoff matrix assuming support for the strategies given by columns\n",
    "    \n",
    "    Finds vector of probabilities that makes player indifferent between rows. \n",
    "    (So finds probability vector for corresponding column player)\n",
    "    \"\"\"\n",
    "    M = (A[np.array(rows)] - np.roll(A[np.array(rows)], 1, axis=0))[:-1]  # Ensure differences between pairs of pure strategies are the same\n",
    "    M = np.append(M, [[1 for _ in M.T]], axis=0)   # Ensure have probability vector\n",
    "    zero_columns = set(range(A.shape[1])) - set(columns)  # Columns that must be played with prob 0\n",
    "    b = np.append(np.zeros(len(M) - 1), [1] + [0 for _ in zero_columns])\n",
    "   \n",
    "    if zero_columns != set():\n",
    "        M = np.append(M, [[int(i == j) for i, col in enumerate(M.T)] for j in zero_columns], axis=0)\n",
    "    \n",
    "    try:\n",
    "        prob = np.linalg.solve(M, b)\n",
    "        assert all(prob >= 0), \"Not a probability vector (non positive values)\"\n",
    "        return prob\n",
    "    except np.linalg.linalg.LinAlgError:\n",
    "        return None"
   ]
  },
  {
   "cell_type": "code",
   "execution_count": 33,
   "metadata": {
    "collapsed": false
   },
   "outputs": [
    {
     "data": {
      "text/plain": [
       "array([ 0.5,  0.5,  0. ])"
      ]
     },
     "execution_count": 33,
     "metadata": {},
     "output_type": "execute_result"
    }
   ],
   "source": [
    "p = solve_indifference(np.array([[-1, 1, -1], [1, -1, 1], [-1, 0, 0]]), rows=(0, 1), columns=(0, 1))\n",
    "p"
   ]
  },
  {
   "cell_type": "code",
   "execution_count": 14,
   "metadata": {
    "collapsed": false
   },
   "outputs": [
    {
     "data": {
      "text/plain": [
       "array([ 0.2,  0.6,  0.2])"
      ]
     },
     "execution_count": 14,
     "metadata": {},
     "output_type": "execute_result"
    }
   ],
   "source": [
    "p = solve_indifference(np.array([[0, 1, -1], [1, 0, 1], [-1, 1, 0]]), rows=[0, 1, 2], columns=[0, 1, 2])\n",
    "p"
   ]
  },
  {
   "cell_type": "code",
   "execution_count": 38,
   "metadata": {
    "collapsed": false
   },
   "outputs": [
    {
     "data": {
      "text/plain": [
       "(array([ 1.,  0.]), array([ 1.,  0.]))"
      ]
     },
     "execution_count": 38,
     "metadata": {},
     "output_type": "execute_result"
    }
   ],
   "source": [
    "A = np.array([[2, 1], [0, 2]])\n",
    "B = np.array([[2, 0], [1, 2]])\n",
    "rows, columns = [0], [0]\n",
    "p1 = solve_indifference(A, rows, columns)\n",
    "p2 = solve_indifference(B.T, columns, rows)\n",
    "p1, p2"
   ]
  },
  {
   "cell_type": "code",
   "execution_count": 39,
   "metadata": {
    "collapsed": false
   },
   "outputs": [
    {
     "data": {
      "text/plain": [
       "(array([ 0.,  1.]), array([ 1.,  0.]))"
      ]
     },
     "execution_count": 39,
     "metadata": {},
     "output_type": "execute_result"
    }
   ],
   "source": [
    "A = np.array([[2, 1], [0, 2]])\n",
    "B = np.array([[2, 0], [1, 2]])\n",
    "rows, columns = [0], [1]\n",
    "p1 = solve_indifference(A, rows, columns)\n",
    "p2 = solve_indifference(B.T, columns, rows)\n",
    "p1, p2"
   ]
  },
  {
   "cell_type": "code",
   "execution_count": 40,
   "metadata": {
    "collapsed": false
   },
   "outputs": [
    {
     "data": {
      "text/plain": [
       "(array([ 1.,  0.]), array([ 0.,  1.]))"
      ]
     },
     "execution_count": 40,
     "metadata": {},
     "output_type": "execute_result"
    }
   ],
   "source": [
    "A = np.array([[2, 1], [0, 2]])\n",
    "B = np.array([[2, 0], [1, 2]])\n",
    "rows, columns = [0], [1]\n",
    "p1 = solve_indifference(A, rows, columns)\n",
    "p2 = solve_indifference(B.T, columns, rows)\n",
    "p1, p2"
   ]
  },
  {
   "cell_type": "code",
   "execution_count": 42,
   "metadata": {
    "collapsed": false
   },
   "outputs": [
    {
     "data": {
      "text/plain": [
       "(array([ 0.,  1.]), array([ 0.,  1.]))"
      ]
     },
     "execution_count": 42,
     "metadata": {},
     "output_type": "execute_result"
    }
   ],
   "source": [
    "A = np.array([[2, 1], [0, 2]])\n",
    "B = np.array([[2, 0], [1, 2]])\n",
    "rows, columns = [1], [1]\n",
    "p1 = solve_indifference(A, rows, columns)\n",
    "p2 = solve_indifference(B.T, columns, rows)\n",
    "p1, p2"
   ]
  },
  {
   "cell_type": "code",
   "execution_count": 43,
   "metadata": {
    "collapsed": false
   },
   "outputs": [
    {
     "data": {
      "text/plain": [
       "(array([ 0.33333333,  0.66666667]), array([ 0.33333333,  0.66666667]))"
      ]
     },
     "execution_count": 43,
     "metadata": {},
     "output_type": "execute_result"
    }
   ],
   "source": [
    "A = np.array([[2, 1], [0, 2]])\n",
    "B = np.array([[2, 0], [1, 2]])\n",
    "rows, columns = [0, 1], [0, 1]\n",
    "p1 = solve_indifference(A, rows, columns)\n",
    "p2 = solve_indifference(B.T, columns, rows)\n",
    "p1, p2"
   ]
  },
  {
   "cell_type": "code",
   "execution_count": null,
   "metadata": {
    "collapsed": true
   },
   "outputs": [],
   "source": []
  }
 ],
 "metadata": {
  "anaconda-cloud": {},
  "kernelspec": {
   "display_name": "Python [conda env:nash]",
   "language": "python",
   "name": "conda-env-nash-py"
  },
  "language_info": {
   "codemirror_mode": {
    "name": "ipython",
    "version": 3
   },
   "file_extension": ".py",
   "mimetype": "text/x-python",
   "name": "python",
   "nbconvert_exporter": "python",
   "pygments_lexer": "ipython3",
   "version": "3.5.2"
  }
 },
 "nbformat": 4,
 "nbformat_minor": 1
}
